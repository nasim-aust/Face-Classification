{
  "nbformat": 4,
  "nbformat_minor": 0,
  "metadata": {
    "colab": {
      "name": "project.ipynb",
      "version": "0.3.2",
      "provenance": [],
      "include_colab_link": true
    },
    "language_info": {
      "codemirror_mode": {
        "name": "ipython",
        "version": 3
      },
      "file_extension": ".py",
      "mimetype": "text/x-python",
      "name": "python",
      "nbconvert_exporter": "python",
      "pygments_lexer": "ipython3",
      "version": "3.6.5"
    },
    "kernelspec": {
      "display_name": "Python 3",
      "language": "python",
      "name": "python3"
    }
  },
  "cells": [
    {
      "cell_type": "markdown",
      "metadata": {
        "id": "view-in-github",
        "colab_type": "text"
      },
      "source": [
        "<a href=\"https://colab.research.google.com/github/nasim-aust/Face-Classification/blob/master/Facial%20Classification%20using%20ConvNet.ipynb\" target=\"_parent\"><img src=\"https://colab.research.google.com/assets/colab-badge.svg\" alt=\"Open In Colab\"/></a>"
      ]
    },
    {
      "cell_type": "code",
      "metadata": {
        "id": "PfQqHMzMAZg1",
        "colab_type": "code",
        "colab": {},
        "outputId": "3575b44e-59a8-4358-a151-e464a2d27af4"
      },
      "source": [
        "import os\n",
        "directory_list = list()\n",
        "dir_path = \"C:/Users/nasim/Desktop/Workshop/DataScience_project/project/dataset\"\n",
        "for root, dirs, files in os.walk(dir_path, topdown=False):\n",
        "    for name in dirs:\n",
        "        directory_list.append((name))\n",
        "print(directory_list)"
      ],
      "execution_count": 0,
      "outputs": [
        {
          "output_type": "stream",
          "text": [
            "['Colin_Powell', 'Donald_Rumsfeld', 'George_W_Bush', 'Colin_Powell', 'Donald_Rumsfeld', 'George_W_Bush', 'test', 'train']\n"
          ],
          "name": "stdout"
        }
      ]
    },
    {
      "cell_type": "code",
      "metadata": {
        "id": "64JSTOnzAZg6",
        "colab_type": "code",
        "colab": {}
      },
      "source": [
        "import glob\n",
        "\n",
        "labels = 'C:/Users/nasim/Desktop/Workshop/DataScience_project/project/labels.csv'\n",
        "labelfile = open(labels,'w')\n",
        "for i in range(len(directory_list)):\n",
        "    readpath = (dir_path+'/' + directory_list[i]+'/*jpg')\n",
        "    #print(readpath)\n",
        "    images = glob.glob(readpath)\n",
        "    for image in images:\n",
        "        labelfile.write(image+','+str(i)+'\\n')\n",
        "labelfile.close()\n",
        "#print(dir_path)"
      ],
      "execution_count": 0,
      "outputs": []
    },
    {
      "cell_type": "code",
      "metadata": {
        "id": "bnOCI_grAZg8",
        "colab_type": "code",
        "colab": {}
      },
      "source": [
        "import random\n",
        "labels = 'C:/Users/nasim/Desktop/Workshop/DataScience_project/project/labels.csv'\n",
        "shuffled_labels = 'C:/Users/nasim/Desktop/Workshop/DataScience_project/project/shuffled_labels.csv'\n",
        "\n",
        "labelfile = open(labels, \"r\")\n",
        "lines = labelfile.readlines()\n",
        "labelfile.close()\n",
        "random.shuffle(lines)\n",
        "\n",
        "shufflefile = open(shuffled_labels, \"w\")\n",
        "shufflefile.writelines(lines)\n",
        "shufflefile.close()"
      ],
      "execution_count": 0,
      "outputs": []
    },
    {
      "cell_type": "code",
      "metadata": {
        "id": "HRHmCEtJAZg-",
        "colab_type": "code",
        "colab": {},
        "outputId": "456c9503-8bbe-4efc-9ed3-b4415dc6472d"
      },
      "source": [
        "import cv2\n",
        "import pandas\n",
        "import numpy as np\n",
        "from sklearn.preprocessing import LabelEncoder\n",
        "from keras.utils import np_utils\n",
        "\n",
        "npzfile = 'C:/Users/nasim/Desktop/Workshop/DataScience_project/project/labels.npz'\n",
        "\n",
        "df = pandas.read_csv(labels)\n",
        "\n",
        "rows = df.iterrows()\n",
        "\n",
        "X_temp = []\n",
        "Y_temp = []\n",
        "\n",
        "for row in rows:\n",
        "    image = row[1][0]\n",
        "    #cv2.cvtColor(image, cv2.COLOR_BGR2GRAY)\n",
        "    img = cv2.imread(image)\n",
        "    #img = cv2.cvtColor(img, cv2.COLOR_BGR2GRAY)\n",
        "    img = cv2.resize(img,(128,128))\n",
        "    imageClass = row[1][1]\n",
        "    #print(type(img[0][0][0]))\n",
        "    X_temp.append(img)\n",
        "    Y_temp.append(imageClass)\n",
        "encoder = LabelEncoder()\n",
        "encoder.fit(Y_temp)\n",
        "encoded_Y = encoder.transform(Y_temp)\n",
        "Y = np_utils.to_categorical(encoded_Y)\n",
        "np.savez(npzfile, X_train=X_temp,Y_train=Y)"
      ],
      "execution_count": 0,
      "outputs": [
        {
          "output_type": "error",
          "ename": "EmptyDataError",
          "evalue": "No columns to parse from file",
          "traceback": [
            "\u001b[1;31m---------------------------------------------------------------------------\u001b[0m",
            "\u001b[1;31mEmptyDataError\u001b[0m                            Traceback (most recent call last)",
            "\u001b[1;32m<ipython-input-21-ccd3ba008959>\u001b[0m in \u001b[0;36m<module>\u001b[1;34m()\u001b[0m\n\u001b[0;32m      7\u001b[0m \u001b[0mnpzfile\u001b[0m \u001b[1;33m=\u001b[0m \u001b[1;34m'C:/Users/nasim/Desktop/Workshop/DataScience_project/project/labels.npz'\u001b[0m\u001b[1;33m\u001b[0m\u001b[0m\n\u001b[0;32m      8\u001b[0m \u001b[1;33m\u001b[0m\u001b[0m\n\u001b[1;32m----> 9\u001b[1;33m \u001b[0mdf\u001b[0m \u001b[1;33m=\u001b[0m \u001b[0mpandas\u001b[0m\u001b[1;33m.\u001b[0m\u001b[0mread_csv\u001b[0m\u001b[1;33m(\u001b[0m\u001b[0mlabels\u001b[0m\u001b[1;33m)\u001b[0m\u001b[1;33m\u001b[0m\u001b[0m\n\u001b[0m\u001b[0;32m     10\u001b[0m \u001b[1;33m\u001b[0m\u001b[0m\n\u001b[0;32m     11\u001b[0m \u001b[0mrows\u001b[0m \u001b[1;33m=\u001b[0m \u001b[0mdf\u001b[0m\u001b[1;33m.\u001b[0m\u001b[0miterrows\u001b[0m\u001b[1;33m(\u001b[0m\u001b[1;33m)\u001b[0m\u001b[1;33m\u001b[0m\u001b[0m\n",
            "\u001b[1;32m~\\Anaconda3\\envs\\Workshop\\lib\\site-packages\\pandas\\io\\parsers.py\u001b[0m in \u001b[0;36mparser_f\u001b[1;34m(filepath_or_buffer, sep, delimiter, header, names, index_col, usecols, squeeze, prefix, mangle_dupe_cols, dtype, engine, converters, true_values, false_values, skipinitialspace, skiprows, nrows, na_values, keep_default_na, na_filter, verbose, skip_blank_lines, parse_dates, infer_datetime_format, keep_date_col, date_parser, dayfirst, iterator, chunksize, compression, thousands, decimal, lineterminator, quotechar, quoting, escapechar, comment, encoding, dialect, tupleize_cols, error_bad_lines, warn_bad_lines, skipfooter, skip_footer, doublequote, delim_whitespace, as_recarray, compact_ints, use_unsigned, low_memory, buffer_lines, memory_map, float_precision)\u001b[0m\n\u001b[0;32m    707\u001b[0m                     skip_blank_lines=skip_blank_lines)\n\u001b[0;32m    708\u001b[0m \u001b[1;33m\u001b[0m\u001b[0m\n\u001b[1;32m--> 709\u001b[1;33m         \u001b[1;32mreturn\u001b[0m \u001b[0m_read\u001b[0m\u001b[1;33m(\u001b[0m\u001b[0mfilepath_or_buffer\u001b[0m\u001b[1;33m,\u001b[0m \u001b[0mkwds\u001b[0m\u001b[1;33m)\u001b[0m\u001b[1;33m\u001b[0m\u001b[0m\n\u001b[0m\u001b[0;32m    710\u001b[0m \u001b[1;33m\u001b[0m\u001b[0m\n\u001b[0;32m    711\u001b[0m     \u001b[0mparser_f\u001b[0m\u001b[1;33m.\u001b[0m\u001b[0m__name__\u001b[0m \u001b[1;33m=\u001b[0m \u001b[0mname\u001b[0m\u001b[1;33m\u001b[0m\u001b[0m\n",
            "\u001b[1;32m~\\Anaconda3\\envs\\Workshop\\lib\\site-packages\\pandas\\io\\parsers.py\u001b[0m in \u001b[0;36m_read\u001b[1;34m(filepath_or_buffer, kwds)\u001b[0m\n\u001b[0;32m    447\u001b[0m \u001b[1;33m\u001b[0m\u001b[0m\n\u001b[0;32m    448\u001b[0m     \u001b[1;31m# Create the parser.\u001b[0m\u001b[1;33m\u001b[0m\u001b[1;33m\u001b[0m\u001b[0m\n\u001b[1;32m--> 449\u001b[1;33m     \u001b[0mparser\u001b[0m \u001b[1;33m=\u001b[0m \u001b[0mTextFileReader\u001b[0m\u001b[1;33m(\u001b[0m\u001b[0mfilepath_or_buffer\u001b[0m\u001b[1;33m,\u001b[0m \u001b[1;33m**\u001b[0m\u001b[0mkwds\u001b[0m\u001b[1;33m)\u001b[0m\u001b[1;33m\u001b[0m\u001b[0m\n\u001b[0m\u001b[0;32m    450\u001b[0m \u001b[1;33m\u001b[0m\u001b[0m\n\u001b[0;32m    451\u001b[0m     \u001b[1;32mif\u001b[0m \u001b[0mchunksize\u001b[0m \u001b[1;32mor\u001b[0m \u001b[0miterator\u001b[0m\u001b[1;33m:\u001b[0m\u001b[1;33m\u001b[0m\u001b[0m\n",
            "\u001b[1;32m~\\Anaconda3\\envs\\Workshop\\lib\\site-packages\\pandas\\io\\parsers.py\u001b[0m in \u001b[0;36m__init__\u001b[1;34m(self, f, engine, **kwds)\u001b[0m\n\u001b[0;32m    816\u001b[0m             \u001b[0mself\u001b[0m\u001b[1;33m.\u001b[0m\u001b[0moptions\u001b[0m\u001b[1;33m[\u001b[0m\u001b[1;34m'has_index_names'\u001b[0m\u001b[1;33m]\u001b[0m \u001b[1;33m=\u001b[0m \u001b[0mkwds\u001b[0m\u001b[1;33m[\u001b[0m\u001b[1;34m'has_index_names'\u001b[0m\u001b[1;33m]\u001b[0m\u001b[1;33m\u001b[0m\u001b[0m\n\u001b[0;32m    817\u001b[0m \u001b[1;33m\u001b[0m\u001b[0m\n\u001b[1;32m--> 818\u001b[1;33m         \u001b[0mself\u001b[0m\u001b[1;33m.\u001b[0m\u001b[0m_make_engine\u001b[0m\u001b[1;33m(\u001b[0m\u001b[0mself\u001b[0m\u001b[1;33m.\u001b[0m\u001b[0mengine\u001b[0m\u001b[1;33m)\u001b[0m\u001b[1;33m\u001b[0m\u001b[0m\n\u001b[0m\u001b[0;32m    819\u001b[0m \u001b[1;33m\u001b[0m\u001b[0m\n\u001b[0;32m    820\u001b[0m     \u001b[1;32mdef\u001b[0m \u001b[0mclose\u001b[0m\u001b[1;33m(\u001b[0m\u001b[0mself\u001b[0m\u001b[1;33m)\u001b[0m\u001b[1;33m:\u001b[0m\u001b[1;33m\u001b[0m\u001b[0m\n",
            "\u001b[1;32m~\\Anaconda3\\envs\\Workshop\\lib\\site-packages\\pandas\\io\\parsers.py\u001b[0m in \u001b[0;36m_make_engine\u001b[1;34m(self, engine)\u001b[0m\n\u001b[0;32m   1047\u001b[0m     \u001b[1;32mdef\u001b[0m \u001b[0m_make_engine\u001b[0m\u001b[1;33m(\u001b[0m\u001b[0mself\u001b[0m\u001b[1;33m,\u001b[0m \u001b[0mengine\u001b[0m\u001b[1;33m=\u001b[0m\u001b[1;34m'c'\u001b[0m\u001b[1;33m)\u001b[0m\u001b[1;33m:\u001b[0m\u001b[1;33m\u001b[0m\u001b[0m\n\u001b[0;32m   1048\u001b[0m         \u001b[1;32mif\u001b[0m \u001b[0mengine\u001b[0m \u001b[1;33m==\u001b[0m \u001b[1;34m'c'\u001b[0m\u001b[1;33m:\u001b[0m\u001b[1;33m\u001b[0m\u001b[0m\n\u001b[1;32m-> 1049\u001b[1;33m             \u001b[0mself\u001b[0m\u001b[1;33m.\u001b[0m\u001b[0m_engine\u001b[0m \u001b[1;33m=\u001b[0m \u001b[0mCParserWrapper\u001b[0m\u001b[1;33m(\u001b[0m\u001b[0mself\u001b[0m\u001b[1;33m.\u001b[0m\u001b[0mf\u001b[0m\u001b[1;33m,\u001b[0m \u001b[1;33m**\u001b[0m\u001b[0mself\u001b[0m\u001b[1;33m.\u001b[0m\u001b[0moptions\u001b[0m\u001b[1;33m)\u001b[0m\u001b[1;33m\u001b[0m\u001b[0m\n\u001b[0m\u001b[0;32m   1050\u001b[0m         \u001b[1;32melse\u001b[0m\u001b[1;33m:\u001b[0m\u001b[1;33m\u001b[0m\u001b[0m\n\u001b[0;32m   1051\u001b[0m             \u001b[1;32mif\u001b[0m \u001b[0mengine\u001b[0m \u001b[1;33m==\u001b[0m \u001b[1;34m'python'\u001b[0m\u001b[1;33m:\u001b[0m\u001b[1;33m\u001b[0m\u001b[0m\n",
            "\u001b[1;32m~\\Anaconda3\\envs\\Workshop\\lib\\site-packages\\pandas\\io\\parsers.py\u001b[0m in \u001b[0;36m__init__\u001b[1;34m(self, src, **kwds)\u001b[0m\n\u001b[0;32m   1693\u001b[0m         \u001b[0mkwds\u001b[0m\u001b[1;33m[\u001b[0m\u001b[1;34m'allow_leading_cols'\u001b[0m\u001b[1;33m]\u001b[0m \u001b[1;33m=\u001b[0m \u001b[0mself\u001b[0m\u001b[1;33m.\u001b[0m\u001b[0mindex_col\u001b[0m \u001b[1;32mis\u001b[0m \u001b[1;32mnot\u001b[0m \u001b[1;32mFalse\u001b[0m\u001b[1;33m\u001b[0m\u001b[0m\n\u001b[0;32m   1694\u001b[0m \u001b[1;33m\u001b[0m\u001b[0m\n\u001b[1;32m-> 1695\u001b[1;33m         \u001b[0mself\u001b[0m\u001b[1;33m.\u001b[0m\u001b[0m_reader\u001b[0m \u001b[1;33m=\u001b[0m \u001b[0mparsers\u001b[0m\u001b[1;33m.\u001b[0m\u001b[0mTextReader\u001b[0m\u001b[1;33m(\u001b[0m\u001b[0msrc\u001b[0m\u001b[1;33m,\u001b[0m \u001b[1;33m**\u001b[0m\u001b[0mkwds\u001b[0m\u001b[1;33m)\u001b[0m\u001b[1;33m\u001b[0m\u001b[0m\n\u001b[0m\u001b[0;32m   1696\u001b[0m \u001b[1;33m\u001b[0m\u001b[0m\n\u001b[0;32m   1697\u001b[0m         \u001b[1;31m# XXX\u001b[0m\u001b[1;33m\u001b[0m\u001b[1;33m\u001b[0m\u001b[0m\n",
            "\u001b[1;32mpandas/_libs/parsers.pyx\u001b[0m in \u001b[0;36mpandas._libs.parsers.TextReader.__cinit__\u001b[1;34m()\u001b[0m\n",
            "\u001b[1;31mEmptyDataError\u001b[0m: No columns to parse from file"
          ]
        }
      ]
    },
    {
      "cell_type": "code",
      "metadata": {
        "id": "6anP_qTnAZhB",
        "colab_type": "code",
        "colab": {},
        "outputId": "b121e331-d93e-419c-da4d-967f16e7eb10"
      },
      "source": [
        "import numpy as np\n",
        "from keras.models import Sequential\n",
        "from keras.layers import Dense,Dropout,Flatten\n",
        "from keras.layers.convolutional import Convolution2D,MaxPooling2D\n",
        "from keras.callbacks import ModelCheckpoint\n",
        "from keras import backend as K\n",
        "K.set_image_data_format('channels_last')\n",
        "\n",
        "seed = 7\n",
        "np.random.seed(seed)\n",
        "num_classes = len(directory_list)\n",
        "\n",
        "\n",
        "#npzfile = 'H:/Workshop/Lecture Plan/Lecture 6/Labels/labels.npz'\n",
        "\n",
        "dataset =  np.load(npzfile)\n",
        "x_train = dataset['X_train']\n",
        "y_train = dataset['Y_train']\n",
        "print(type(x_train))\n",
        "x_train = x_train/255\n",
        "print(x_train.shape)"
      ],
      "execution_count": 0,
      "outputs": [
        {
          "output_type": "stream",
          "text": [
            "<class 'numpy.ndarray'>\n",
            "(1551, 128, 128, 3)\n"
          ],
          "name": "stdout"
        }
      ]
    },
    {
      "cell_type": "code",
      "metadata": {
        "id": "LgSpR3B8AZhD",
        "colab_type": "code",
        "colab": {}
      },
      "source": [
        "\n",
        "import numpy as np\n",
        "from keras.models import Sequential\n",
        "from keras.layers import Dense,Dropout,Flatten\n",
        "from keras.layers.convolutional import Convolution2D,MaxPooling2D\n",
        "from keras.callbacks import ModelCheckpoint\n",
        "from keras import backend as K\n",
        "K.set_image_data_format('channels_last')\n",
        "\n",
        "seed = 7\n",
        "np.random.seed(seed)\n",
        "num_classes = len(directory_list)\n",
        "\n",
        "\n",
        "#npzfile = 'H:/Workshop/Lecture Plan/Lecture 6/Labels/labels.npz'\n",
        "\n",
        "dataset =  np.load(npzfile)\n",
        "x_train = dataset['X_train']\n",
        "y_train = dataset['Y_train']\n",
        "\n",
        "x = x_train/255\n",
        "\n"
      ],
      "execution_count": 0,
      "outputs": []
    },
    {
      "cell_type": "code",
      "metadata": {
        "id": "dOFWAoofAZhF",
        "colab_type": "code",
        "colab": {},
        "outputId": "4d1e6387-f68a-49b4-fd93-cd138bbc4c6c"
      },
      "source": [
        "#best1\n",
        "import numpy as np\n",
        "from keras.models import Sequential\n",
        "from keras.layers import Dense,Dropout,Flatten\n",
        "from keras.layers.convolutional import Convolution2D,MaxPooling2D\n",
        "from keras.callbacks import ModelCheckpoint\n",
        "from keras import backend as K\n",
        "def CNN_model():\n",
        "    # create model\n",
        "    model = Sequential()\n",
        "    model.add(Convolution2D(32, 3, 3, border_mode= 'valid' , input_shape=(128,128,3),activation= 'relu' ))\n",
        "    model.add(Convolution2D(32, 3, 3, border_mode= 'valid',activation= 'relu' ))\n",
        "    model.add(MaxPooling2D(pool_size=(2, 2)))\n",
        "   # model.add(Dropout(0.2))\n",
        "    model.add(Convolution2D(16, 3, 3, border_mode= 'valid',activation= 'relu' ))\n",
        "    model.add(Convolution2D(16, 3, 3, border_mode= 'valid',activation= 'relu' ))\n",
        "    model.add(MaxPooling2D(pool_size=(2, 2)))\n",
        "    \n",
        "    model.add(Convolution2D(8, 3, 3, border_mode= 'valid',activation= 'relu' ))\n",
        "    model.add(Convolution2D(8, 3, 3, border_mode= 'valid',activation= 'relu' ))\n",
        "    model.add(MaxPooling2D(pool_size=(2, 2)))\n",
        "    \n",
        "    model.add(Convolution2D(8, 3, 3, border_mode= 'valid',activation= 'relu' ))\n",
        "    model.add(Convolution2D(8, 3, 3, border_mode= 'valid',activation= 'relu' ))\n",
        "    model.add(MaxPooling2D(pool_size=(2, 2)))\n",
        "    \n",
        "    model.add(Flatten())\n",
        "    model.add(Dense(128, activation= 'relu' ))\n",
        "    model.add(Dense(128, activation= 'relu' ))\n",
        "    model.add(Dense(3, activation= 'softmax' ))\n",
        "    # Compile model\n",
        "    model.compile(loss= 'categorical_crossentropy' , optimizer= 'adam' , metrics=[ 'accuracy' ])\n",
        "    return model\n",
        "\n",
        "model = CNN_model()\n",
        "\n",
        "model.summary()\n",
        "\n",
        "check  = ModelCheckpoint('best.hdf5', monitor = 'val_categorical_accuracy' )\n",
        "checkpoints = [check]\n",
        "\n",
        "#model.fit(x, y_train, validation_split = 0.2, nb_epoch=10, batch_size=64,verbose=2, callbacks = checkpoints)\n"
      ],
      "execution_count": 0,
      "outputs": [
        {
          "output_type": "stream",
          "text": [
            "Using TensorFlow backend.\n",
            "C:\\Users\\HP\\Anaconda3\\envs\\workshop\\lib\\site-packages\\ipykernel_launcher.py:11: UserWarning: Update your `Conv2D` call to the Keras 2 API: `Conv2D(32, (3, 3), input_shape=(128, 128,..., activation=\"relu\", padding=\"valid\")`\n",
            "  # This is added back by InteractiveShellApp.init_path()\n",
            "C:\\Users\\HP\\Anaconda3\\envs\\workshop\\lib\\site-packages\\ipykernel_launcher.py:12: UserWarning: Update your `Conv2D` call to the Keras 2 API: `Conv2D(32, (3, 3), activation=\"relu\", padding=\"valid\")`\n",
            "  if sys.path[0] == '':\n",
            "C:\\Users\\HP\\Anaconda3\\envs\\workshop\\lib\\site-packages\\ipykernel_launcher.py:15: UserWarning: Update your `Conv2D` call to the Keras 2 API: `Conv2D(16, (3, 3), activation=\"relu\", padding=\"valid\")`\n",
            "  from ipykernel import kernelapp as app\n",
            "C:\\Users\\HP\\Anaconda3\\envs\\workshop\\lib\\site-packages\\ipykernel_launcher.py:16: UserWarning: Update your `Conv2D` call to the Keras 2 API: `Conv2D(16, (3, 3), activation=\"relu\", padding=\"valid\")`\n",
            "  app.launch_new_instance()\n",
            "C:\\Users\\HP\\Anaconda3\\envs\\workshop\\lib\\site-packages\\ipykernel_launcher.py:19: UserWarning: Update your `Conv2D` call to the Keras 2 API: `Conv2D(8, (3, 3), activation=\"relu\", padding=\"valid\")`\n",
            "C:\\Users\\HP\\Anaconda3\\envs\\workshop\\lib\\site-packages\\ipykernel_launcher.py:20: UserWarning: Update your `Conv2D` call to the Keras 2 API: `Conv2D(8, (3, 3), activation=\"relu\", padding=\"valid\")`\n",
            "C:\\Users\\HP\\Anaconda3\\envs\\workshop\\lib\\site-packages\\ipykernel_launcher.py:23: UserWarning: Update your `Conv2D` call to the Keras 2 API: `Conv2D(8, (3, 3), activation=\"relu\", padding=\"valid\")`\n",
            "C:\\Users\\HP\\Anaconda3\\envs\\workshop\\lib\\site-packages\\ipykernel_launcher.py:24: UserWarning: Update your `Conv2D` call to the Keras 2 API: `Conv2D(8, (3, 3), activation=\"relu\", padding=\"valid\")`\n"
          ],
          "name": "stderr"
        },
        {
          "output_type": "stream",
          "text": [
            "_________________________________________________________________\n",
            "Layer (type)                 Output Shape              Param #   \n",
            "=================================================================\n",
            "conv2d_1 (Conv2D)            (None, 126, 126, 32)      896       \n",
            "_________________________________________________________________\n",
            "conv2d_2 (Conv2D)            (None, 124, 124, 32)      9248      \n",
            "_________________________________________________________________\n",
            "max_pooling2d_1 (MaxPooling2 (None, 62, 62, 32)        0         \n",
            "_________________________________________________________________\n",
            "conv2d_3 (Conv2D)            (None, 60, 60, 16)        4624      \n",
            "_________________________________________________________________\n",
            "conv2d_4 (Conv2D)            (None, 58, 58, 16)        2320      \n",
            "_________________________________________________________________\n",
            "max_pooling2d_2 (MaxPooling2 (None, 29, 29, 16)        0         \n",
            "_________________________________________________________________\n",
            "conv2d_5 (Conv2D)            (None, 27, 27, 8)         1160      \n",
            "_________________________________________________________________\n",
            "conv2d_6 (Conv2D)            (None, 25, 25, 8)         584       \n",
            "_________________________________________________________________\n",
            "max_pooling2d_3 (MaxPooling2 (None, 12, 12, 8)         0         \n",
            "_________________________________________________________________\n",
            "conv2d_7 (Conv2D)            (None, 10, 10, 8)         584       \n",
            "_________________________________________________________________\n",
            "conv2d_8 (Conv2D)            (None, 8, 8, 8)           584       \n",
            "_________________________________________________________________\n",
            "max_pooling2d_4 (MaxPooling2 (None, 4, 4, 8)           0         \n",
            "_________________________________________________________________\n",
            "flatten_1 (Flatten)          (None, 128)               0         \n",
            "_________________________________________________________________\n",
            "dense_1 (Dense)              (None, 128)               16512     \n",
            "_________________________________________________________________\n",
            "dense_2 (Dense)              (None, 128)               16512     \n",
            "_________________________________________________________________\n",
            "dense_3 (Dense)              (None, 3)                 387       \n",
            "=================================================================\n",
            "Total params: 53,411\n",
            "Trainable params: 53,411\n",
            "Non-trainable params: 0\n",
            "_________________________________________________________________\n"
          ],
          "name": "stdout"
        }
      ]
    },
    {
      "cell_type": "code",
      "metadata": {
        "id": "TMAu3ut5AZhH",
        "colab_type": "code",
        "colab": {},
        "outputId": "efc42320-f55c-41ed-c59d-c83ca3289fc3"
      },
      "source": [
        "import numpy as np\n",
        "from keras.models import Sequential\n",
        "from keras.layers import Dense,Dropout,Flatten\n",
        "from keras.layers.convolutional import Convolution2D,MaxPooling2D\n",
        "from keras.callbacks import ModelCheckpoint\n",
        "from keras import backend as K\n",
        "def CNN_model():\n",
        "    # create model\n",
        "    model = Sequential()\n",
        "   # model.add(Dropout(0.2))\n",
        "    model.add(Convolution2D(64, 3, 3, border_mode= 'valid',  input_shape=(256,256,3),activation= 'relu' ))\n",
        "    model.add(Convolution2D(64, 3, 3, border_mode= 'valid',activation= 'relu' ))\n",
        "    model.add(MaxPooling2D(pool_size=(2, 2)))\n",
        "    \n",
        "    model.add(Convolution2D(32, 3, 3, border_mode= 'valid',activation= 'relu' ))\n",
        "    model.add(Convolution2D(32, 3, 3, border_mode= 'valid',activation= 'relu' ))\n",
        "    model.add(MaxPooling2D(pool_size=(2, 2)))\n",
        "    \n",
        "    model.add(Convolution2D(16, 3, 3, border_mode= 'valid',activation= 'relu' ))\n",
        "    model.add(Convolution2D(16, 3, 3, border_mode= 'valid',activation= 'relu' ))\n",
        "    model.add(MaxPooling2D(pool_size=(2, 2)))\n",
        "    \n",
        "    model.add(Convolution2D(8, 3, 3, border_mode= 'valid',activation= 'relu' ))\n",
        "    model.add(Convolution2D(8, 3, 3, border_mode= 'valid',activation= 'relu' ))\n",
        "    model.add(MaxPooling2D(pool_size=(2, 2)))\n",
        "    \n",
        "    model.add(Flatten())\n",
        "    model.add(Dense(256, activation= 'relu' ))\n",
        "    model.add(Dense(128, activation= 'relu' ))\n",
        "    model.add(Dense(64, activation= 'relu' ))\n",
        "    model.add(Dense(3, activation= 'softmax' ))\n",
        "    # Compile model\n",
        "    model.compile(loss= 'categorical_crossentropy' , optimizer= 'adam' , metrics=[ 'accuracy' ])\n",
        "    return model\n",
        "\n",
        "model = CNN_model()\n",
        "\n",
        "model.summary()\n",
        "\n",
        "check  = ModelCheckpoint('best.hdf5', monitor = 'val_categorical_accuracy' )\n",
        "checkpoints = [check]\n"
      ],
      "execution_count": 0,
      "outputs": [
        {
          "output_type": "stream",
          "text": [
            "Using TensorFlow backend.\n"
          ],
          "name": "stderr"
        },
        {
          "output_type": "stream",
          "text": [
            "_________________________________________________________________\n",
            "Layer (type)                 Output Shape              Param #   \n",
            "=================================================================\n",
            "conv2d_1 (Conv2D)            (None, 254, 254, 64)      1792      \n",
            "_________________________________________________________________\n",
            "conv2d_2 (Conv2D)            (None, 252, 252, 64)      36928     \n",
            "_________________________________________________________________\n",
            "max_pooling2d_1 (MaxPooling2 (None, 126, 126, 64)      0         \n",
            "_________________________________________________________________\n",
            "conv2d_3 (Conv2D)            (None, 124, 124, 32)      18464     \n",
            "_________________________________________________________________\n",
            "conv2d_4 (Conv2D)            (None, 122, 122, 32)      9248      \n",
            "_________________________________________________________________\n",
            "max_pooling2d_2 (MaxPooling2 (None, 61, 61, 32)        0         \n",
            "_________________________________________________________________\n",
            "conv2d_5 (Conv2D)            (None, 59, 59, 16)        4624      \n",
            "_________________________________________________________________\n",
            "conv2d_6 (Conv2D)            (None, 57, 57, 16)        2320      \n",
            "_________________________________________________________________\n",
            "max_pooling2d_3 (MaxPooling2 (None, 28, 28, 16)        0         \n",
            "_________________________________________________________________\n",
            "conv2d_7 (Conv2D)            (None, 26, 26, 8)         1160      \n",
            "_________________________________________________________________\n",
            "conv2d_8 (Conv2D)            (None, 24, 24, 8)         584       \n",
            "_________________________________________________________________\n",
            "max_pooling2d_4 (MaxPooling2 (None, 12, 12, 8)         0         \n",
            "_________________________________________________________________\n",
            "flatten_1 (Flatten)          (None, 1152)              0         \n",
            "_________________________________________________________________\n",
            "dense_1 (Dense)              (None, 256)               295168    \n",
            "_________________________________________________________________\n",
            "dense_2 (Dense)              (None, 128)               32896     \n",
            "_________________________________________________________________\n",
            "dense_3 (Dense)              (None, 64)                8256      \n",
            "_________________________________________________________________\n",
            "dense_4 (Dense)              (None, 3)                 195       \n",
            "=================================================================\n",
            "Total params: 411,635\n",
            "Trainable params: 411,635\n",
            "Non-trainable params: 0\n",
            "_________________________________________________________________\n"
          ],
          "name": "stdout"
        },
        {
          "output_type": "stream",
          "text": [
            "C:\\Users\\nasim\\Anaconda3\\envs\\workshop\\lib\\site-packages\\ipykernel_launcher.py:11: UserWarning: Update your `Conv2D` call to the Keras 2 API: `Conv2D(64, (3, 3), input_shape=(256, 256,..., activation=\"relu\", padding=\"valid\")`\n",
            "  # This is added back by InteractiveShellApp.init_path()\n",
            "C:\\Users\\nasim\\Anaconda3\\envs\\workshop\\lib\\site-packages\\ipykernel_launcher.py:12: UserWarning: Update your `Conv2D` call to the Keras 2 API: `Conv2D(64, (3, 3), activation=\"relu\", padding=\"valid\")`\n",
            "  if sys.path[0] == '':\n",
            "C:\\Users\\nasim\\Anaconda3\\envs\\workshop\\lib\\site-packages\\ipykernel_launcher.py:15: UserWarning: Update your `Conv2D` call to the Keras 2 API: `Conv2D(32, (3, 3), activation=\"relu\", padding=\"valid\")`\n",
            "  from ipykernel import kernelapp as app\n",
            "C:\\Users\\nasim\\Anaconda3\\envs\\workshop\\lib\\site-packages\\ipykernel_launcher.py:16: UserWarning: Update your `Conv2D` call to the Keras 2 API: `Conv2D(32, (3, 3), activation=\"relu\", padding=\"valid\")`\n",
            "  app.launch_new_instance()\n",
            "C:\\Users\\nasim\\Anaconda3\\envs\\workshop\\lib\\site-packages\\ipykernel_launcher.py:19: UserWarning: Update your `Conv2D` call to the Keras 2 API: `Conv2D(16, (3, 3), activation=\"relu\", padding=\"valid\")`\n",
            "C:\\Users\\nasim\\Anaconda3\\envs\\workshop\\lib\\site-packages\\ipykernel_launcher.py:20: UserWarning: Update your `Conv2D` call to the Keras 2 API: `Conv2D(16, (3, 3), activation=\"relu\", padding=\"valid\")`\n",
            "C:\\Users\\nasim\\Anaconda3\\envs\\workshop\\lib\\site-packages\\ipykernel_launcher.py:23: UserWarning: Update your `Conv2D` call to the Keras 2 API: `Conv2D(8, (3, 3), activation=\"relu\", padding=\"valid\")`\n",
            "C:\\Users\\nasim\\Anaconda3\\envs\\workshop\\lib\\site-packages\\ipykernel_launcher.py:24: UserWarning: Update your `Conv2D` call to the Keras 2 API: `Conv2D(8, (3, 3), activation=\"relu\", padding=\"valid\")`\n"
          ],
          "name": "stderr"
        }
      ]
    },
    {
      "cell_type": "code",
      "metadata": {
        "id": "PqhMj9ohAZhK",
        "colab_type": "code",
        "colab": {},
        "outputId": "93d0e66b-9371-4fd1-b307-23f9968cb16d"
      },
      "source": [
        "from keras.preprocessing.image import ImageDataGenerator\n",
        "train_datagen = ImageDataGenerator(\n",
        "        rescale=1./255,\n",
        "        shear_range=0.2,\n",
        "        zoom_range=0.2,\n",
        "        horizontal_flip=True)\n",
        "\n",
        "test_datagen = ImageDataGenerator(rescale=1./255)\n",
        "\n",
        "train_generator = train_datagen.flow_from_directory(\n",
        "        'dataset/train',\n",
        "        target_size=(256, 256),\n",
        "        batch_size=20,\n",
        "        class_mode='categorical')\n",
        "\n",
        "validation_generator = test_datagen.flow_from_directory(\n",
        "        'dataset/test',\n",
        "        target_size=(256, 256),\n",
        "        batch_size=20,\n",
        "        class_mode='categorical')\n",
        "model = CNN_model()\n",
        "model.load_weights('best.hdf5')\n",
        "model.summary()\n",
        "check  = ModelCheckpoint('best.hdf5', monitor = 'val_categorical_accuracy' )\n",
        "checkpoints = [check]\n",
        "\n",
        "model.fit_generator(\n",
        "        train_generator,\n",
        "        samples_per_epoch=300,\n",
        "        epochs=1,\n",
        "        validation_data=validation_generator,\n",
        "        validation_steps = 60, \n",
        "        callbacks = checkpoints, \n",
        "        save_best_only = True\n",
        "        )\n"
      ],
      "execution_count": 0,
      "outputs": [
        {
          "output_type": "stream",
          "text": [
            "Found 300 images belonging to 3 classes.\n",
            "Found 60 images belonging to 3 classes.\n"
          ],
          "name": "stdout"
        },
        {
          "output_type": "stream",
          "text": [
            "C:\\Users\\nasim\\Anaconda3\\envs\\workshop\\lib\\site-packages\\ipykernel_launcher.py:11: UserWarning: Update your `Conv2D` call to the Keras 2 API: `Conv2D(64, (3, 3), input_shape=(256, 256,..., activation=\"relu\", padding=\"valid\")`\n",
            "  # This is added back by InteractiveShellApp.init_path()\n",
            "C:\\Users\\nasim\\Anaconda3\\envs\\workshop\\lib\\site-packages\\ipykernel_launcher.py:12: UserWarning: Update your `Conv2D` call to the Keras 2 API: `Conv2D(64, (3, 3), activation=\"relu\", padding=\"valid\")`\n",
            "  if sys.path[0] == '':\n",
            "C:\\Users\\nasim\\Anaconda3\\envs\\workshop\\lib\\site-packages\\ipykernel_launcher.py:15: UserWarning: Update your `Conv2D` call to the Keras 2 API: `Conv2D(32, (3, 3), activation=\"relu\", padding=\"valid\")`\n",
            "  from ipykernel import kernelapp as app\n",
            "C:\\Users\\nasim\\Anaconda3\\envs\\workshop\\lib\\site-packages\\ipykernel_launcher.py:16: UserWarning: Update your `Conv2D` call to the Keras 2 API: `Conv2D(32, (3, 3), activation=\"relu\", padding=\"valid\")`\n",
            "  app.launch_new_instance()\n",
            "C:\\Users\\nasim\\Anaconda3\\envs\\workshop\\lib\\site-packages\\ipykernel_launcher.py:19: UserWarning: Update your `Conv2D` call to the Keras 2 API: `Conv2D(16, (3, 3), activation=\"relu\", padding=\"valid\")`\n",
            "C:\\Users\\nasim\\Anaconda3\\envs\\workshop\\lib\\site-packages\\ipykernel_launcher.py:20: UserWarning: Update your `Conv2D` call to the Keras 2 API: `Conv2D(16, (3, 3), activation=\"relu\", padding=\"valid\")`\n",
            "C:\\Users\\nasim\\Anaconda3\\envs\\workshop\\lib\\site-packages\\ipykernel_launcher.py:23: UserWarning: Update your `Conv2D` call to the Keras 2 API: `Conv2D(8, (3, 3), activation=\"relu\", padding=\"valid\")`\n",
            "C:\\Users\\nasim\\Anaconda3\\envs\\workshop\\lib\\site-packages\\ipykernel_launcher.py:24: UserWarning: Update your `Conv2D` call to the Keras 2 API: `Conv2D(8, (3, 3), activation=\"relu\", padding=\"valid\")`\n"
          ],
          "name": "stderr"
        },
        {
          "output_type": "stream",
          "text": [
            "_________________________________________________________________\n",
            "Layer (type)                 Output Shape              Param #   \n",
            "=================================================================\n",
            "conv2d_9 (Conv2D)            (None, 254, 254, 64)      1792      \n",
            "_________________________________________________________________\n",
            "conv2d_10 (Conv2D)           (None, 252, 252, 64)      36928     \n",
            "_________________________________________________________________\n",
            "max_pooling2d_5 (MaxPooling2 (None, 126, 126, 64)      0         \n",
            "_________________________________________________________________\n",
            "conv2d_11 (Conv2D)           (None, 124, 124, 32)      18464     \n",
            "_________________________________________________________________\n",
            "conv2d_12 (Conv2D)           (None, 122, 122, 32)      9248      \n",
            "_________________________________________________________________\n",
            "max_pooling2d_6 (MaxPooling2 (None, 61, 61, 32)        0         \n",
            "_________________________________________________________________\n",
            "conv2d_13 (Conv2D)           (None, 59, 59, 16)        4624      \n",
            "_________________________________________________________________\n",
            "conv2d_14 (Conv2D)           (None, 57, 57, 16)        2320      \n",
            "_________________________________________________________________\n",
            "max_pooling2d_7 (MaxPooling2 (None, 28, 28, 16)        0         \n",
            "_________________________________________________________________\n",
            "conv2d_15 (Conv2D)           (None, 26, 26, 8)         1160      \n",
            "_________________________________________________________________\n",
            "conv2d_16 (Conv2D)           (None, 24, 24, 8)         584       \n",
            "_________________________________________________________________\n",
            "max_pooling2d_8 (MaxPooling2 (None, 12, 12, 8)         0         \n",
            "_________________________________________________________________\n",
            "flatten_2 (Flatten)          (None, 1152)              0         \n",
            "_________________________________________________________________\n",
            "dense_5 (Dense)              (None, 256)               295168    \n",
            "_________________________________________________________________\n",
            "dense_6 (Dense)              (None, 128)               32896     \n",
            "_________________________________________________________________\n",
            "dense_7 (Dense)              (None, 64)                8256      \n",
            "_________________________________________________________________\n",
            "dense_8 (Dense)              (None, 3)                 195       \n",
            "=================================================================\n",
            "Total params: 411,635\n",
            "Trainable params: 411,635\n",
            "Non-trainable params: 0\n",
            "_________________________________________________________________\n"
          ],
          "name": "stdout"
        },
        {
          "output_type": "stream",
          "text": [
            "C:\\Users\\nasim\\Anaconda3\\envs\\workshop\\lib\\site-packages\\ipykernel_launcher.py:34: UserWarning: Update your `fit_generator` call to the Keras 2 API: `fit_generator(<keras.pre..., epochs=1, validation_data=<keras.pre..., validation_steps=60, callbacks=[<keras.ca..., save_best_only=True, steps_per_epoch=15)`\n"
          ],
          "name": "stderr"
        },
        {
          "output_type": "error",
          "ename": "TypeError",
          "evalue": "fit_generator() got an unexpected keyword argument 'save_best_only'",
          "traceback": [
            "\u001b[1;31m---------------------------------------------------------------------------\u001b[0m",
            "\u001b[1;31mTypeError\u001b[0m                                 Traceback (most recent call last)",
            "\u001b[1;32m<ipython-input-2-244af24410bd>\u001b[0m in \u001b[0;36m<module>\u001b[1;34m()\u001b[0m\n\u001b[0;32m     32\u001b[0m         \u001b[0mvalidation_steps\u001b[0m \u001b[1;33m=\u001b[0m \u001b[1;36m60\u001b[0m\u001b[1;33m,\u001b[0m\u001b[1;33m\u001b[0m\u001b[0m\n\u001b[0;32m     33\u001b[0m         \u001b[0mcallbacks\u001b[0m \u001b[1;33m=\u001b[0m \u001b[0mcheckpoints\u001b[0m\u001b[1;33m,\u001b[0m\u001b[1;33m\u001b[0m\u001b[0m\n\u001b[1;32m---> 34\u001b[1;33m         \u001b[0msave_best_only\u001b[0m \u001b[1;33m=\u001b[0m \u001b[1;32mTrue\u001b[0m\u001b[1;33m\u001b[0m\u001b[0m\n\u001b[0m\u001b[0;32m     35\u001b[0m         )\n",
            "\u001b[1;32m~\\Anaconda3\\envs\\workshop\\lib\\site-packages\\keras\\legacy\\interfaces.py\u001b[0m in \u001b[0;36mwrapper\u001b[1;34m(*args, **kwargs)\u001b[0m\n\u001b[0;32m     89\u001b[0m                 warnings.warn('Update your `' + object_name +\n\u001b[0;32m     90\u001b[0m                               '` call to the Keras 2 API: ' + signature, stacklevel=2)\n\u001b[1;32m---> 91\u001b[1;33m             \u001b[1;32mreturn\u001b[0m \u001b[0mfunc\u001b[0m\u001b[1;33m(\u001b[0m\u001b[1;33m*\u001b[0m\u001b[0margs\u001b[0m\u001b[1;33m,\u001b[0m \u001b[1;33m**\u001b[0m\u001b[0mkwargs\u001b[0m\u001b[1;33m)\u001b[0m\u001b[1;33m\u001b[0m\u001b[0m\n\u001b[0m\u001b[0;32m     92\u001b[0m         \u001b[0mwrapper\u001b[0m\u001b[1;33m.\u001b[0m\u001b[0m_original_function\u001b[0m \u001b[1;33m=\u001b[0m \u001b[0mfunc\u001b[0m\u001b[1;33m\u001b[0m\u001b[0m\n\u001b[0;32m     93\u001b[0m         \u001b[1;32mreturn\u001b[0m \u001b[0mwrapper\u001b[0m\u001b[1;33m\u001b[0m\u001b[0m\n",
            "\u001b[1;31mTypeError\u001b[0m: fit_generator() got an unexpected keyword argument 'save_best_only'"
          ]
        }
      ]
    },
    {
      "cell_type": "code",
      "metadata": {
        "scrolled": true,
        "id": "rpO6gHSCAZhN",
        "colab_type": "code",
        "colab": {},
        "outputId": "0fe731fd-5cdb-4806-958a-e438fcd2d34f"
      },
      "source": [
        "print(train_generator.class_indices)\n",
        "names = {}"
      ],
      "execution_count": 0,
      "outputs": [
        {
          "output_type": "stream",
          "text": [
            "{'Colin_Powell': 0, 'Donald_Rumsfeld': 1, 'George_W_Bush': 2}\n"
          ],
          "name": "stdout"
        }
      ]
    },
    {
      "cell_type": "code",
      "metadata": {
        "id": "miCfcAWoAZhQ",
        "colab_type": "code",
        "colab": {},
        "outputId": "bdad245c-0a80-435b-be30-5c6fb7afd02d"
      },
      "source": [
        "import numpy as np\n",
        "from keras.preprocessing import image\n",
        "import cv2\n",
        "model = CNN_model()\n",
        "model.load_weights('best.hdf5')\n",
        "\n",
        "test_image = \"test_9.jpg\"\n",
        "test_image1 = image.load_img(test_image, target_size = (256,256))\n",
        "\n",
        "test_image1 = image.img_to_array(test_image1)\n",
        "print(test_image1.shape)\n",
        "test_image1 = np.expand_dims(test_image1, axis = 0)\n",
        "print(test_image1.shape)\n",
        "result = model.predict(test_image1)\n",
        "print(result)\n",
        "if(result[0][0] == 1):\n",
        "    name = 'Colin_Powell'\n",
        "elif(result[0][1] == 1):\n",
        "    name = 'Donald_Rumsfeld'\n",
        "elif(result[0][2] == 1):\n",
        "    name = 'George_W_Bush'\n",
        "print(name)\n",
        "img = cv2.imread(test_image)\n",
        "img = cv2.resize(img, (720, 512))\n",
        "font = cv2.FONT_HERSHEY_SIMPLEX\n",
        "cv2.putText(img, name,(70,450), font, 2, (200,255,0), 5, cv2.LINE_AA)\n",
        "cv2.imshow('Prediction',img)\n",
        "cv2.waitKey(0)\n",
        "cv2.destroyAllWindows()\n"
      ],
      "execution_count": 0,
      "outputs": [
        {
          "output_type": "stream",
          "text": [
            "C:\\Users\\HP\\Anaconda3\\envs\\workshop\\lib\\site-packages\\ipykernel_launcher.py:11: UserWarning: Update your `Conv2D` call to the Keras 2 API: `Conv2D(64, (3, 3), input_shape=(256, 256,..., activation=\"relu\", padding=\"valid\")`\n",
            "  # This is added back by InteractiveShellApp.init_path()\n",
            "C:\\Users\\HP\\Anaconda3\\envs\\workshop\\lib\\site-packages\\ipykernel_launcher.py:12: UserWarning: Update your `Conv2D` call to the Keras 2 API: `Conv2D(64, (3, 3), activation=\"relu\", padding=\"valid\")`\n",
            "  if sys.path[0] == '':\n",
            "C:\\Users\\HP\\Anaconda3\\envs\\workshop\\lib\\site-packages\\ipykernel_launcher.py:15: UserWarning: Update your `Conv2D` call to the Keras 2 API: `Conv2D(32, (3, 3), activation=\"relu\", padding=\"valid\")`\n",
            "  from ipykernel import kernelapp as app\n",
            "C:\\Users\\HP\\Anaconda3\\envs\\workshop\\lib\\site-packages\\ipykernel_launcher.py:16: UserWarning: Update your `Conv2D` call to the Keras 2 API: `Conv2D(32, (3, 3), activation=\"relu\", padding=\"valid\")`\n",
            "  app.launch_new_instance()\n",
            "C:\\Users\\HP\\Anaconda3\\envs\\workshop\\lib\\site-packages\\ipykernel_launcher.py:19: UserWarning: Update your `Conv2D` call to the Keras 2 API: `Conv2D(16, (3, 3), activation=\"relu\", padding=\"valid\")`\n",
            "C:\\Users\\HP\\Anaconda3\\envs\\workshop\\lib\\site-packages\\ipykernel_launcher.py:20: UserWarning: Update your `Conv2D` call to the Keras 2 API: `Conv2D(16, (3, 3), activation=\"relu\", padding=\"valid\")`\n",
            "C:\\Users\\HP\\Anaconda3\\envs\\workshop\\lib\\site-packages\\ipykernel_launcher.py:23: UserWarning: Update your `Conv2D` call to the Keras 2 API: `Conv2D(8, (3, 3), activation=\"relu\", padding=\"valid\")`\n",
            "C:\\Users\\HP\\Anaconda3\\envs\\workshop\\lib\\site-packages\\ipykernel_launcher.py:24: UserWarning: Update your `Conv2D` call to the Keras 2 API: `Conv2D(8, (3, 3), activation=\"relu\", padding=\"valid\")`\n"
          ],
          "name": "stderr"
        },
        {
          "output_type": "stream",
          "text": [
            "(256, 256, 3)\n",
            "(1, 256, 256, 3)\n",
            "[[  1.00000000e+00   0.00000000e+00   4.86054990e-12]]\n",
            "Colin_Powell\n"
          ],
          "name": "stdout"
        }
      ]
    },
    {
      "cell_type": "code",
      "metadata": {
        "id": "sgw_ZDy3AZhS",
        "colab_type": "code",
        "colab": {}
      },
      "source": [
        "import cv2\n",
        "face_cascade = cv2.CascadeClassifier('haarcascade_frontalface_default.xml')\n",
        "img = cv2.imread('test_1.jpg')\n",
        "gray = cv2.cvtColor(img, cv2.COLOR_BGR2GRAY)\n",
        "faces = face_cascade.detectMultiScale(gray, 1.3, 5)\n",
        "for (x,y,w,h) in faces:\n",
        "    cv2.rectangle(img,(x,y),(x+w,y+h),(255,0,0),2)\n",
        "    cv2.imshow('img',img)\n",
        "cv2.waitKey(0)\n",
        "cv2.destroyAllWindows()"
      ],
      "execution_count": 0,
      "outputs": []
    },
    {
      "cell_type": "code",
      "metadata": {
        "id": "WmDuNs2cAZhT",
        "colab_type": "code",
        "colab": {}
      },
      "source": [
        "if(result[0][0] == 1):\n",
        "    name = 'Alejandro_Toledo'\n",
        "elif(result[0][1] == 1):\n",
        "    name = 'Alvaro_Uribe'\n",
        "elif(result[0][2] == 1):\n",
        "    name = 'Andre_Agassi'\n",
        "elif(result[0][3] == 1):\n",
        "    name = 'Arnold_Schwarzenegger'\n",
        "elif(result[0][4] == 1):\n",
        "    name = 'Bill_Clinton'\n",
        "elif(result[0][8] == 1):\n",
        "    name = 'Gerhard_Schroeder'\n",
        "elif(result[0][9] == 1):\n",
        "    name = 'Jacques_Chirac'\n",
        "elif(result[0][10] == 1):\n",
        "    name = 'John_Ashcroft'\n",
        "elif(result[0][11] == 1):\n",
        "    name = 'John_Negroponte'\n",
        "elif(result[0][12] == 1):\n",
        "    name = 'Kofi_Annan'\n",
        "elif(result[0][13] == 1):\n",
        "    name = 'Lleyton_Hewitt'\n",
        "elif(result[0][14] == 1):\n",
        "    name = 'Megawati_Sukarnoputri'\n",
        "elif(result[0][15] == 1):\n",
        "    name = 'Nestor_Kirchner'\n",
        "elif(result[0][16] == 1):\n",
        "    name = 'Recep_Tayyip_Erdogan'\n",
        "elif(result[0][17] == 1):\n",
        "    name = 'Silvio_Berlusconi'\n",
        "elif(result[0][18] == 1):\n",
        "    name = 'Tom_Ridge'"
      ],
      "execution_count": 0,
      "outputs": []
    },
    {
      "cell_type": "code",
      "metadata": {
        "id": "8kDz2nNiAZhV",
        "colab_type": "code",
        "colab": {},
        "outputId": "ec39a7d7-fad5-4bb1-ed24-ca2893065f93"
      },
      "source": [
        "import numpy as np\n",
        "import cv2\n",
        "face_cascade = cv2.CascadeClassifier('haarcascade_frontalface_default.xml')\n",
        "cap = cv2.VideoCapture(0)\n",
        "while True:\n",
        "    ret, img = cap.read()\n",
        "    gray = cv2.cvtColor(img, cv2.COLOR_BGR2GRAY)\n",
        "    faces = face_cascade.detectMultiScale(gray, 1.3, 5)\n",
        "    for (x,y,w,h) in faces:\n",
        "        cv2.rectangle(img,(x,y),(x+w,y+h),(255,0,0),2)\n",
        "    cv2.imshow('img',img)\n",
        "    cv2.waitKey(0)\n",
        "    cv2.destroyAllWindows()\n",
        "\n",
        "cap.release()\n",
        "cv2.destroyAllWindows()"
      ],
      "execution_count": 0,
      "outputs": [
        {
          "output_type": "error",
          "ename": "KeyboardInterrupt",
          "evalue": "",
          "traceback": [
            "\u001b[1;31m---------------------------------------------------------------------------\u001b[0m",
            "\u001b[1;31mKeyboardInterrupt\u001b[0m                         Traceback (most recent call last)",
            "\u001b[1;32m<ipython-input-1-d7c72ae2e3ff>\u001b[0m in \u001b[0;36m<module>\u001b[1;34m()\u001b[0m\n\u001b[0;32m      6\u001b[0m     \u001b[0mret\u001b[0m\u001b[1;33m,\u001b[0m \u001b[0mimg\u001b[0m \u001b[1;33m=\u001b[0m \u001b[0mcap\u001b[0m\u001b[1;33m.\u001b[0m\u001b[0mread\u001b[0m\u001b[1;33m(\u001b[0m\u001b[1;33m)\u001b[0m\u001b[1;33m\u001b[0m\u001b[0m\n\u001b[0;32m      7\u001b[0m     \u001b[0mgray\u001b[0m \u001b[1;33m=\u001b[0m \u001b[0mcv2\u001b[0m\u001b[1;33m.\u001b[0m\u001b[0mcvtColor\u001b[0m\u001b[1;33m(\u001b[0m\u001b[0mimg\u001b[0m\u001b[1;33m,\u001b[0m \u001b[0mcv2\u001b[0m\u001b[1;33m.\u001b[0m\u001b[0mCOLOR_BGR2GRAY\u001b[0m\u001b[1;33m)\u001b[0m\u001b[1;33m\u001b[0m\u001b[0m\n\u001b[1;32m----> 8\u001b[1;33m     \u001b[0mfaces\u001b[0m \u001b[1;33m=\u001b[0m \u001b[0mface_cascade\u001b[0m\u001b[1;33m.\u001b[0m\u001b[0mdetectMultiScale\u001b[0m\u001b[1;33m(\u001b[0m\u001b[0mgray\u001b[0m\u001b[1;33m,\u001b[0m \u001b[1;36m1.3\u001b[0m\u001b[1;33m,\u001b[0m \u001b[1;36m5\u001b[0m\u001b[1;33m)\u001b[0m\u001b[1;33m\u001b[0m\u001b[0m\n\u001b[0m\u001b[0;32m      9\u001b[0m     \u001b[1;32mfor\u001b[0m \u001b[1;33m(\u001b[0m\u001b[0mx\u001b[0m\u001b[1;33m,\u001b[0m\u001b[0my\u001b[0m\u001b[1;33m,\u001b[0m\u001b[0mw\u001b[0m\u001b[1;33m,\u001b[0m\u001b[0mh\u001b[0m\u001b[1;33m)\u001b[0m \u001b[1;32min\u001b[0m \u001b[0mfaces\u001b[0m\u001b[1;33m:\u001b[0m\u001b[1;33m\u001b[0m\u001b[0m\n\u001b[0;32m     10\u001b[0m         \u001b[0mcv2\u001b[0m\u001b[1;33m.\u001b[0m\u001b[0mrectangle\u001b[0m\u001b[1;33m(\u001b[0m\u001b[0mimg\u001b[0m\u001b[1;33m,\u001b[0m\u001b[1;33m(\u001b[0m\u001b[0mx\u001b[0m\u001b[1;33m,\u001b[0m\u001b[0my\u001b[0m\u001b[1;33m)\u001b[0m\u001b[1;33m,\u001b[0m\u001b[1;33m(\u001b[0m\u001b[0mx\u001b[0m\u001b[1;33m+\u001b[0m\u001b[0mw\u001b[0m\u001b[1;33m,\u001b[0m\u001b[0my\u001b[0m\u001b[1;33m+\u001b[0m\u001b[0mh\u001b[0m\u001b[1;33m)\u001b[0m\u001b[1;33m,\u001b[0m\u001b[1;33m(\u001b[0m\u001b[1;36m255\u001b[0m\u001b[1;33m,\u001b[0m\u001b[1;36m0\u001b[0m\u001b[1;33m,\u001b[0m\u001b[1;36m0\u001b[0m\u001b[1;33m)\u001b[0m\u001b[1;33m,\u001b[0m\u001b[1;36m2\u001b[0m\u001b[1;33m)\u001b[0m\u001b[1;33m\u001b[0m\u001b[0m\n",
            "\u001b[1;31mKeyboardInterrupt\u001b[0m: "
          ]
        }
      ]
    },
    {
      "cell_type": "code",
      "metadata": {
        "id": "WK3PIclFAZhX",
        "colab_type": "code",
        "colab": {}
      },
      "source": [
        ""
      ],
      "execution_count": 0,
      "outputs": []
    }
  ]
}